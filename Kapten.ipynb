{
 "cells": [
  {
   "cell_type": "markdown",
   "metadata": {},
   "source": [
    "# <center>KAPTEN DATA TEST</center>"
   ]
  },
  {
   "cell_type": "markdown",
   "metadata": {},
   "source": [
    "## Import libraries"
   ]
  },
  {
   "cell_type": "code",
   "execution_count": 1,
   "metadata": {},
   "outputs": [],
   "source": [
    "import pandas as pd\n",
    "import matplotlib.pyplot as plt\n",
    "plt.style.use('seaborn-darkgrid')\n",
    "import seaborn as sns\n",
    "import numpy as np\n",
    "import sqlite3"
   ]
  },
  {
   "cell_type": "markdown",
   "metadata": {},
   "source": [
    "## Import Dataset rides and users"
   ]
  },
  {
   "cell_type": "code",
   "execution_count": 2,
   "metadata": {},
   "outputs": [],
   "source": [
    "rides = pd.read_csv('raw_data/rides.csv')\n"
   ]
  },
  {
   "cell_type": "code",
   "execution_count": 3,
   "metadata": {
    "scrolled": true
   },
   "outputs": [
    {
     "data": {
      "text/html": [
       "<div>\n",
       "<style scoped>\n",
       "    .dataframe tbody tr th:only-of-type {\n",
       "        vertical-align: middle;\n",
       "    }\n",
       "\n",
       "    .dataframe tbody tr th {\n",
       "        vertical-align: top;\n",
       "    }\n",
       "\n",
       "    .dataframe thead th {\n",
       "        text-align: right;\n",
       "    }\n",
       "</style>\n",
       "<table border=\"1\" class=\"dataframe\">\n",
       "  <thead>\n",
       "    <tr style=\"text-align: right;\">\n",
       "      <th></th>\n",
       "      <th>ride_id</th>\n",
       "      <th>user_id</th>\n",
       "      <th>from_zipcode</th>\n",
       "      <th>to_zipcode</th>\n",
       "      <th>state</th>\n",
       "      <th>quote_date</th>\n",
       "      <th>completed_date</th>\n",
       "      <th>price_nominal</th>\n",
       "      <th>loyalty_points_earned</th>\n",
       "    </tr>\n",
       "  </thead>\n",
       "  <tbody>\n",
       "    <tr>\n",
       "      <th>0</th>\n",
       "      <td>7cd8b375f4577f99414aae0825ecd611</td>\n",
       "      <td>eee42ac4794799ea832a7a7b22ad2214</td>\n",
       "      <td>75019</td>\n",
       "      <td>75018</td>\n",
       "      <td>not_completed</td>\n",
       "      <td>2018-03-31 04:25:45.582</td>\n",
       "      <td>NaN</td>\n",
       "      <td>4.56</td>\n",
       "      <td>0</td>\n",
       "    </tr>\n",
       "    <tr>\n",
       "      <th>1</th>\n",
       "      <td>1e594ad1a3717a371c372e97766adb70</td>\n",
       "      <td>88bd8997227391658166a314164df98e</td>\n",
       "      <td>94220</td>\n",
       "      <td>93170</td>\n",
       "      <td>not_completed</td>\n",
       "      <td>2018-05-14 08:14:45.068</td>\n",
       "      <td>NaN</td>\n",
       "      <td>4.84</td>\n",
       "      <td>0</td>\n",
       "    </tr>\n",
       "    <tr>\n",
       "      <th>2</th>\n",
       "      <td>4cd25072edbd5eaecc87c86aedcf3d00</td>\n",
       "      <td>0457dec1ec689903dfc4bdd218eb7ce2</td>\n",
       "      <td>75011</td>\n",
       "      <td>75013</td>\n",
       "      <td>completed</td>\n",
       "      <td>2018-04-09 10:31:43.52</td>\n",
       "      <td>2018-04-09 10:52:43.845</td>\n",
       "      <td>4.15</td>\n",
       "      <td>7</td>\n",
       "    </tr>\n",
       "    <tr>\n",
       "      <th>3</th>\n",
       "      <td>565b09d786159420be7e8e1058ea76ae</td>\n",
       "      <td>f096efbabf683c5d339d243e1ba46b12</td>\n",
       "      <td>75017</td>\n",
       "      <td>75001</td>\n",
       "      <td>completed</td>\n",
       "      <td>2018-05-21 16:51:46.674</td>\n",
       "      <td>2018-05-21 17:23:12.75</td>\n",
       "      <td>5.05</td>\n",
       "      <td>5</td>\n",
       "    </tr>\n",
       "    <tr>\n",
       "      <th>4</th>\n",
       "      <td>9691cb806a1d22ba1d553d344326f357</td>\n",
       "      <td>d596ade95dbb9d89e9b17dc51cb80280</td>\n",
       "      <td>69008</td>\n",
       "      <td>69004</td>\n",
       "      <td>not_completed</td>\n",
       "      <td>2018-05-26 12:37:34.861</td>\n",
       "      <td>NaN</td>\n",
       "      <td>6.75</td>\n",
       "      <td>0</td>\n",
       "    </tr>\n",
       "  </tbody>\n",
       "</table>\n",
       "</div>"
      ],
      "text/plain": [
       "                            ride_id                           user_id  \\\n",
       "0  7cd8b375f4577f99414aae0825ecd611  eee42ac4794799ea832a7a7b22ad2214   \n",
       "1  1e594ad1a3717a371c372e97766adb70  88bd8997227391658166a314164df98e   \n",
       "2  4cd25072edbd5eaecc87c86aedcf3d00  0457dec1ec689903dfc4bdd218eb7ce2   \n",
       "3  565b09d786159420be7e8e1058ea76ae  f096efbabf683c5d339d243e1ba46b12   \n",
       "4  9691cb806a1d22ba1d553d344326f357  d596ade95dbb9d89e9b17dc51cb80280   \n",
       "\n",
       "  from_zipcode to_zipcode          state               quote_date  \\\n",
       "0        75019      75018  not_completed  2018-03-31 04:25:45.582   \n",
       "1        94220      93170  not_completed  2018-05-14 08:14:45.068   \n",
       "2        75011      75013      completed   2018-04-09 10:31:43.52   \n",
       "3        75017      75001      completed  2018-05-21 16:51:46.674   \n",
       "4        69008      69004  not_completed  2018-05-26 12:37:34.861   \n",
       "\n",
       "            completed_date  price_nominal  loyalty_points_earned  \n",
       "0                      NaN           4.56                      0  \n",
       "1                      NaN           4.84                      0  \n",
       "2  2018-04-09 10:52:43.845           4.15                      7  \n",
       "3   2018-05-21 17:23:12.75           5.05                      5  \n",
       "4                      NaN           6.75                      0  "
      ]
     },
     "execution_count": 3,
     "metadata": {},
     "output_type": "execute_result"
    }
   ],
   "source": [
    "rides.head()"
   ]
  },
  {
   "cell_type": "code",
   "execution_count": 4,
   "metadata": {},
   "outputs": [
    {
     "data": {
      "text/plain": [
       "(100000, 9)"
      ]
     },
     "execution_count": 4,
     "metadata": {},
     "output_type": "execute_result"
    }
   ],
   "source": [
    "rides.shape"
   ]
  },
  {
   "cell_type": "code",
   "execution_count": 5,
   "metadata": {},
   "outputs": [
    {
     "data": {
      "text/plain": [
       "<matplotlib.axes._subplots.AxesSubplot at 0x1a24bdfcf8>"
      ]
     },
     "execution_count": 5,
     "metadata": {},
     "output_type": "execute_result"
    },
    {
     "data": {
      "image/png": "[encoded data removed]",
      "text/plain": [
       "<Figure size 432x288 with 1 Axes>"
      ]
     },
     "metadata": {
      "needs_background": "light"
     },
     "output_type": "display_data"
    }
   ],
   "source": [
    "sns.distplot(rides.price_nominal)"
   ]
  },
  {
   "cell_type": "markdown",
   "metadata": {},
   "source": [
    "rides.completed_date = pd.to_datetime(rides['completed_date']).apply(lambda x: x.date())"
   ]
  },
  {
   "cell_type": "code",
   "execution_count": 6,
   "metadata": {},
   "outputs": [],
   "source": [
    "rides.quote_date = rides.quote_date.str[:10]"
   ]
  },
  {
   "cell_type": "code",
   "execution_count": 7,
   "metadata": {},
   "outputs": [],
   "source": [
    "users = pd.read_csv('raw_data/users.csv')"
   ]
  },
  {
   "cell_type": "code",
   "execution_count": 8,
   "metadata": {},
   "outputs": [
    {
     "data": {
      "text/html": [
       "<div>\n",
       "<style scoped>\n",
       "    .dataframe tbody tr th:only-of-type {\n",
       "        vertical-align: middle;\n",
       "    }\n",
       "\n",
       "    .dataframe tbody tr th {\n",
       "        vertical-align: top;\n",
       "    }\n",
       "\n",
       "    .dataframe thead th {\n",
       "        text-align: right;\n",
       "    }\n",
       "</style>\n",
       "<table border=\"1\" class=\"dataframe\">\n",
       "  <thead>\n",
       "    <tr style=\"text-align: right;\">\n",
       "      <th></th>\n",
       "      <th>user_id</th>\n",
       "      <th>loyalty_status</th>\n",
       "      <th>loyalty_status_txt</th>\n",
       "    </tr>\n",
       "  </thead>\n",
       "  <tbody>\n",
       "    <tr>\n",
       "      <th>0</th>\n",
       "      <td>0ff74e41e2df2daa789c92721799b109</td>\n",
       "      <td>0</td>\n",
       "      <td>red</td>\n",
       "    </tr>\n",
       "    <tr>\n",
       "      <th>1</th>\n",
       "      <td>13ad62a9177ea8f22b44e3f8d7e79955</td>\n",
       "      <td>0</td>\n",
       "      <td>red</td>\n",
       "    </tr>\n",
       "    <tr>\n",
       "      <th>2</th>\n",
       "      <td>487fd8a510c647f9ce39b5047d1e9523</td>\n",
       "      <td>0</td>\n",
       "      <td>red</td>\n",
       "    </tr>\n",
       "    <tr>\n",
       "      <th>3</th>\n",
       "      <td>f5a30d41c89735bf49dbf09462484d47</td>\n",
       "      <td>0</td>\n",
       "      <td>red</td>\n",
       "    </tr>\n",
       "    <tr>\n",
       "      <th>4</th>\n",
       "      <td>d7cefce901f9074c30b7729ccdb3981a</td>\n",
       "      <td>0</td>\n",
       "      <td>red</td>\n",
       "    </tr>\n",
       "  </tbody>\n",
       "</table>\n",
       "</div>"
      ],
      "text/plain": [
       "                            user_id  loyalty_status loyalty_status_txt\n",
       "0  0ff74e41e2df2daa789c92721799b109               0                red\n",
       "1  13ad62a9177ea8f22b44e3f8d7e79955               0                red\n",
       "2  487fd8a510c647f9ce39b5047d1e9523               0                red\n",
       "3  f5a30d41c89735bf49dbf09462484d47               0                red\n",
       "4  d7cefce901f9074c30b7729ccdb3981a               0                red"
      ]
     },
     "execution_count": 8,
     "metadata": {},
     "output_type": "execute_result"
    }
   ],
   "source": [
    "users.head()"
   ]
  },
  {
   "cell_type": "code",
   "execution_count": 9,
   "metadata": {},
   "outputs": [
    {
     "data": {
      "text/html": [
       "<div>\n",
       "<style scoped>\n",
       "    .dataframe tbody tr th:only-of-type {\n",
       "        vertical-align: middle;\n",
       "    }\n",
       "\n",
       "    .dataframe tbody tr th {\n",
       "        vertical-align: top;\n",
       "    }\n",
       "\n",
       "    .dataframe thead th {\n",
       "        text-align: right;\n",
       "    }\n",
       "</style>\n",
       "<table border=\"1\" class=\"dataframe\">\n",
       "  <thead>\n",
       "    <tr style=\"text-align: right;\">\n",
       "      <th></th>\n",
       "      <th>user_id</th>\n",
       "      <th>loyalty_status_txt</th>\n",
       "    </tr>\n",
       "    <tr>\n",
       "      <th>loyalty_status</th>\n",
       "      <th></th>\n",
       "      <th></th>\n",
       "    </tr>\n",
       "  </thead>\n",
       "  <tbody>\n",
       "    <tr>\n",
       "      <th>0</th>\n",
       "      <td>147605</td>\n",
       "      <td>147605</td>\n",
       "    </tr>\n",
       "    <tr>\n",
       "      <th>1</th>\n",
       "      <td>7671</td>\n",
       "      <td>7671</td>\n",
       "    </tr>\n",
       "    <tr>\n",
       "      <th>2</th>\n",
       "      <td>3007</td>\n",
       "      <td>3007</td>\n",
       "    </tr>\n",
       "    <tr>\n",
       "      <th>3</th>\n",
       "      <td>1188</td>\n",
       "      <td>1188</td>\n",
       "    </tr>\n",
       "  </tbody>\n",
       "</table>\n",
       "</div>"
      ],
      "text/plain": [
       "                user_id  loyalty_status_txt\n",
       "loyalty_status                             \n",
       "0                147605              147605\n",
       "1                  7671                7671\n",
       "2                  3007                3007\n",
       "3                  1188                1188"
      ]
     },
     "execution_count": 9,
     "metadata": {},
     "output_type": "execute_result"
    }
   ],
   "source": [
    "users.groupby('loyalty_status').count()"
   ]
  },
  {
   "cell_type": "code",
   "execution_count": 10,
   "metadata": {
    "scrolled": false
   },
   "outputs": [
    {
     "data": {
      "text/html": [
       "<div>\n",
       "<style scoped>\n",
       "    .dataframe tbody tr th:only-of-type {\n",
       "        vertical-align: middle;\n",
       "    }\n",
       "\n",
       "    .dataframe tbody tr th {\n",
       "        vertical-align: top;\n",
       "    }\n",
       "\n",
       "    .dataframe thead th {\n",
       "        text-align: right;\n",
       "    }\n",
       "</style>\n",
       "<table border=\"1\" class=\"dataframe\">\n",
       "  <thead>\n",
       "    <tr style=\"text-align: right;\">\n",
       "      <th></th>\n",
       "      <th>user_id</th>\n",
       "      <th>loyalty_status</th>\n",
       "    </tr>\n",
       "    <tr>\n",
       "      <th>loyalty_status_txt</th>\n",
       "      <th></th>\n",
       "      <th></th>\n",
       "    </tr>\n",
       "  </thead>\n",
       "  <tbody>\n",
       "    <tr>\n",
       "      <th>gold</th>\n",
       "      <td>3007</td>\n",
       "      <td>3007</td>\n",
       "    </tr>\n",
       "    <tr>\n",
       "      <th>platinium</th>\n",
       "      <td>3</td>\n",
       "      <td>3</td>\n",
       "    </tr>\n",
       "    <tr>\n",
       "      <th>platinum</th>\n",
       "      <td>1185</td>\n",
       "      <td>1185</td>\n",
       "    </tr>\n",
       "    <tr>\n",
       "      <th>red</th>\n",
       "      <td>147605</td>\n",
       "      <td>147605</td>\n",
       "    </tr>\n",
       "    <tr>\n",
       "      <th>silver</th>\n",
       "      <td>7671</td>\n",
       "      <td>7671</td>\n",
       "    </tr>\n",
       "  </tbody>\n",
       "</table>\n",
       "</div>"
      ],
      "text/plain": [
       "                    user_id  loyalty_status\n",
       "loyalty_status_txt                         \n",
       "gold                   3007            3007\n",
       "platinium                 3               3\n",
       "platinum               1185            1185\n",
       "red                  147605          147605\n",
       "silver                 7671            7671"
      ]
     },
     "execution_count": 10,
     "metadata": {},
     "output_type": "execute_result"
    }
   ],
   "source": [
    "users.groupby('loyalty_status_txt').count()"
   ]
  },
  {
   "cell_type": "markdown",
   "metadata": {},
   "source": [
    "### We can see that there is three platinium and it is  an error so we are going to change platinium to platinum"
   ]
  },
  {
   "cell_type": "code",
   "execution_count": 11,
   "metadata": {},
   "outputs": [],
   "source": [
    "users.loyalty_status_txt = users.loyalty_status_txt.replace('platinium', 'platinum')"
   ]
  },
  {
   "cell_type": "markdown",
   "metadata": {},
   "source": [
    "### We merge rides and users and we want to keep all rows in rides  so we use a left join because we noticed that a lot of user_id in rides dataset are not register in users dataset. "
   ]
  },
  {
   "cell_type": "code",
   "execution_count": 12,
   "metadata": {},
   "outputs": [],
   "source": [
    "df = pd.merge(rides, users, how='left', on='user_id')"
   ]
  },
  {
   "cell_type": "code",
   "execution_count": 13,
   "metadata": {},
   "outputs": [
    {
     "data": {
      "text/html": [
       "<div>\n",
       "<style scoped>\n",
       "    .dataframe tbody tr th:only-of-type {\n",
       "        vertical-align: middle;\n",
       "    }\n",
       "\n",
       "    .dataframe tbody tr th {\n",
       "        vertical-align: top;\n",
       "    }\n",
       "\n",
       "    .dataframe thead th {\n",
       "        text-align: right;\n",
       "    }\n",
       "</style>\n",
       "<table border=\"1\" class=\"dataframe\">\n",
       "  <thead>\n",
       "    <tr style=\"text-align: right;\">\n",
       "      <th></th>\n",
       "      <th>ride_id</th>\n",
       "      <th>user_id</th>\n",
       "      <th>from_zipcode</th>\n",
       "      <th>to_zipcode</th>\n",
       "      <th>state</th>\n",
       "      <th>quote_date</th>\n",
       "      <th>completed_date</th>\n",
       "      <th>price_nominal</th>\n",
       "      <th>loyalty_points_earned</th>\n",
       "      <th>loyalty_status</th>\n",
       "      <th>loyalty_status_txt</th>\n",
       "    </tr>\n",
       "  </thead>\n",
       "  <tbody>\n",
       "    <tr>\n",
       "      <th>0</th>\n",
       "      <td>7cd8b375f4577f99414aae0825ecd611</td>\n",
       "      <td>eee42ac4794799ea832a7a7b22ad2214</td>\n",
       "      <td>75019</td>\n",
       "      <td>75018</td>\n",
       "      <td>not_completed</td>\n",
       "      <td>2018-03-31</td>\n",
       "      <td>NaN</td>\n",
       "      <td>4.56</td>\n",
       "      <td>0</td>\n",
       "      <td>NaN</td>\n",
       "      <td>NaN</td>\n",
       "    </tr>\n",
       "    <tr>\n",
       "      <th>1</th>\n",
       "      <td>1e594ad1a3717a371c372e97766adb70</td>\n",
       "      <td>88bd8997227391658166a314164df98e</td>\n",
       "      <td>94220</td>\n",
       "      <td>93170</td>\n",
       "      <td>not_completed</td>\n",
       "      <td>2018-05-14</td>\n",
       "      <td>NaN</td>\n",
       "      <td>4.84</td>\n",
       "      <td>0</td>\n",
       "      <td>NaN</td>\n",
       "      <td>NaN</td>\n",
       "    </tr>\n",
       "    <tr>\n",
       "      <th>2</th>\n",
       "      <td>4cd25072edbd5eaecc87c86aedcf3d00</td>\n",
       "      <td>0457dec1ec689903dfc4bdd218eb7ce2</td>\n",
       "      <td>75011</td>\n",
       "      <td>75013</td>\n",
       "      <td>completed</td>\n",
       "      <td>2018-04-09</td>\n",
       "      <td>2018-04-09 10:52:43.845</td>\n",
       "      <td>4.15</td>\n",
       "      <td>7</td>\n",
       "      <td>3.0</td>\n",
       "      <td>platinum</td>\n",
       "    </tr>\n",
       "    <tr>\n",
       "      <th>3</th>\n",
       "      <td>565b09d786159420be7e8e1058ea76ae</td>\n",
       "      <td>f096efbabf683c5d339d243e1ba46b12</td>\n",
       "      <td>75017</td>\n",
       "      <td>75001</td>\n",
       "      <td>completed</td>\n",
       "      <td>2018-05-21</td>\n",
       "      <td>2018-05-21 17:23:12.75</td>\n",
       "      <td>5.05</td>\n",
       "      <td>5</td>\n",
       "      <td>NaN</td>\n",
       "      <td>NaN</td>\n",
       "    </tr>\n",
       "    <tr>\n",
       "      <th>4</th>\n",
       "      <td>9691cb806a1d22ba1d553d344326f357</td>\n",
       "      <td>d596ade95dbb9d89e9b17dc51cb80280</td>\n",
       "      <td>69008</td>\n",
       "      <td>69004</td>\n",
       "      <td>not_completed</td>\n",
       "      <td>2018-05-26</td>\n",
       "      <td>NaN</td>\n",
       "      <td>6.75</td>\n",
       "      <td>0</td>\n",
       "      <td>2.0</td>\n",
       "      <td>gold</td>\n",
       "    </tr>\n",
       "  </tbody>\n",
       "</table>\n",
       "</div>"
      ],
      "text/plain": [
       "                            ride_id                           user_id  \\\n",
       "0  7cd8b375f4577f99414aae0825ecd611  eee42ac4794799ea832a7a7b22ad2214   \n",
       "1  1e594ad1a3717a371c372e97766adb70  88bd8997227391658166a314164df98e   \n",
       "2  4cd25072edbd5eaecc87c86aedcf3d00  0457dec1ec689903dfc4bdd218eb7ce2   \n",
       "3  565b09d786159420be7e8e1058ea76ae  f096efbabf683c5d339d243e1ba46b12   \n",
       "4  9691cb806a1d22ba1d553d344326f357  d596ade95dbb9d89e9b17dc51cb80280   \n",
       "\n",
       "  from_zipcode to_zipcode          state  quote_date           completed_date  \\\n",
       "0        75019      75018  not_completed  2018-03-31                      NaN   \n",
       "1        94220      93170  not_completed  2018-05-14                      NaN   \n",
       "2        75011      75013      completed  2018-04-09  2018-04-09 10:52:43.845   \n",
       "3        75017      75001      completed  2018-05-21   2018-05-21 17:23:12.75   \n",
       "4        69008      69004  not_completed  2018-05-26                      NaN   \n",
       "\n",
       "   price_nominal  loyalty_points_earned  loyalty_status loyalty_status_txt  \n",
       "0           4.56                      0             NaN                NaN  \n",
       "1           4.84                      0             NaN                NaN  \n",
       "2           4.15                      7             3.0           platinum  \n",
       "3           5.05                      5             NaN                NaN  \n",
       "4           6.75                      0             2.0               gold  "
      ]
     },
     "execution_count": 13,
     "metadata": {},
     "output_type": "execute_result"
    }
   ],
   "source": [
    "df.head()"
   ]
  },
  {
   "cell_type": "code",
   "execution_count": 14,
   "metadata": {
    "scrolled": true
   },
   "outputs": [
    {
     "data": {
      "text/plain": [
       "(100000, 11)"
      ]
     },
     "execution_count": 14,
     "metadata": {},
     "output_type": "execute_result"
    }
   ],
   "source": [
    "df.shape"
   ]
  },
  {
   "cell_type": "markdown",
   "metadata": {},
   "source": [
    "<h3>Question 1 : Write a function which returns a dataframe listing all the users, by computing (if needed) the following columns:</h3><br>\n",
    "* user_id <br>\n",
    "* loyalty_status <br>\n",
    "* loyalty_status_txt <br>\n",
    "* daily_date: date of ride day <br>\n",
    "* nb_rides: number of completed rides made by the user for the given day <br>\n",
    "* total_price: total ride price spent by the user for the given day <br>"
   ]
  },
  {
   "cell_type": "code",
   "execution_count": 15,
   "metadata": {},
   "outputs": [],
   "source": [
    "def all_users_rides_completed():\n",
    "    df1 = df[df['state']=='completed'].groupby(['user_id','quote_date','loyalty_status', 'loyalty_status_txt']).agg({'price_nominal':['count','sum']})\n",
    "    return df1\n",
    "    "
   ]
  },
  {
   "cell_type": "code",
   "execution_count": 16,
   "metadata": {},
   "outputs": [
    {
     "data": {
      "text/html": [
       "<div>\n",
       "<style scoped>\n",
       "    .dataframe tbody tr th:only-of-type {\n",
       "        vertical-align: middle;\n",
       "    }\n",
       "\n",
       "    .dataframe tbody tr th {\n",
       "        vertical-align: top;\n",
       "    }\n",
       "\n",
       "    .dataframe thead tr th {\n",
       "        text-align: left;\n",
       "    }\n",
       "\n",
       "    .dataframe thead tr:last-of-type th {\n",
       "        text-align: right;\n",
       "    }\n",
       "</style>\n",
       "<table border=\"1\" class=\"dataframe\">\n",
       "  <thead>\n",
       "    <tr>\n",
       "      <th></th>\n",
       "      <th></th>\n",
       "      <th></th>\n",
       "      <th></th>\n",
       "      <th colspan=\"2\" halign=\"left\">price_nominal</th>\n",
       "    </tr>\n",
       "    <tr>\n",
       "      <th></th>\n",
       "      <th></th>\n",
       "      <th></th>\n",
       "      <th></th>\n",
       "      <th>count</th>\n",
       "      <th>sum</th>\n",
       "    </tr>\n",
       "    <tr>\n",
       "      <th>user_id</th>\n",
       "      <th>quote_date</th>\n",
       "      <th>loyalty_status</th>\n",
       "      <th>loyalty_status_txt</th>\n",
       "      <th></th>\n",
       "      <th></th>\n",
       "    </tr>\n",
       "  </thead>\n",
       "  <tbody>\n",
       "    <tr>\n",
       "      <th>0007fa0278af842878d18fb7e82af0e4</th>\n",
       "      <th>2018-03-21</th>\n",
       "      <th>2.0</th>\n",
       "      <th>gold</th>\n",
       "      <td>1</td>\n",
       "      <td>4.00</td>\n",
       "    </tr>\n",
       "    <tr>\n",
       "      <th>0019979af2a05300fe929758a0507164</th>\n",
       "      <th>2018-04-07</th>\n",
       "      <th>1.0</th>\n",
       "      <th>silver</th>\n",
       "      <td>1</td>\n",
       "      <td>4.00</td>\n",
       "    </tr>\n",
       "    <tr>\n",
       "      <th rowspan=\"2\" valign=\"top\">001eddc5bdb4132f4ce0fae33a446c24</th>\n",
       "      <th>2018-05-22</th>\n",
       "      <th>1.0</th>\n",
       "      <th>silver</th>\n",
       "      <td>1</td>\n",
       "      <td>5.65</td>\n",
       "    </tr>\n",
       "    <tr>\n",
       "      <th>2018-06-02</th>\n",
       "      <th>1.0</th>\n",
       "      <th>silver</th>\n",
       "      <td>1</td>\n",
       "      <td>5.44</td>\n",
       "    </tr>\n",
       "    <tr>\n",
       "      <th>003fbc5cba362ca2f472bbafa45e0e43</th>\n",
       "      <th>2018-05-13</th>\n",
       "      <th>1.0</th>\n",
       "      <th>silver</th>\n",
       "      <td>1</td>\n",
       "      <td>4.91</td>\n",
       "    </tr>\n",
       "  </tbody>\n",
       "</table>\n",
       "</div>"
      ],
      "text/plain": [
       "                                                                              price_nominal  \\\n",
       "                                                                                      count   \n",
       "user_id                          quote_date loyalty_status loyalty_status_txt                 \n",
       "0007fa0278af842878d18fb7e82af0e4 2018-03-21 2.0            gold                           1   \n",
       "0019979af2a05300fe929758a0507164 2018-04-07 1.0            silver                         1   \n",
       "001eddc5bdb4132f4ce0fae33a446c24 2018-05-22 1.0            silver                         1   \n",
       "                                 2018-06-02 1.0            silver                         1   \n",
       "003fbc5cba362ca2f472bbafa45e0e43 2018-05-13 1.0            silver                         1   \n",
       "\n",
       "                                                                                     \n",
       "                                                                                sum  \n",
       "user_id                          quote_date loyalty_status loyalty_status_txt        \n",
       "0007fa0278af842878d18fb7e82af0e4 2018-03-21 2.0            gold                4.00  \n",
       "0019979af2a05300fe929758a0507164 2018-04-07 1.0            silver              4.00  \n",
       "001eddc5bdb4132f4ce0fae33a446c24 2018-05-22 1.0            silver              5.65  \n",
       "                                 2018-06-02 1.0            silver              5.44  \n",
       "003fbc5cba362ca2f472bbafa45e0e43 2018-05-13 1.0            silver              4.91  "
      ]
     },
     "execution_count": 16,
     "metadata": {},
     "output_type": "execute_result"
    }
   ],
   "source": [
    "all_users_rides_completed().head()"
   ]
  },
  {
   "cell_type": "markdown",
   "metadata": {},
   "source": [
    "<h3> Question 2:  Write a function which returns a dataframe listing the average basket per day. The average basket is the average completed ride price for a given period of time. </h3>"
   ]
  },
  {
   "cell_type": "code",
   "execution_count": 17,
   "metadata": {},
   "outputs": [],
   "source": [
    "def average_basket():\n",
    "    date = df.quote_date.unique()\n",
    "    average_price = []\n",
    "    for d in date:\n",
    "        average_price.append(df.price_nominal[(df['quote_date']==d) & (df['state']=='completed')].sum()/len(df[(df['quote_date']==d) & (df['state']=='completed')]))\n",
    "    average = pd.DataFrame({'average_price' : average_price}, index=date)\n",
    "    return average.sort_index()\n"
   ]
  },
  {
   "cell_type": "code",
   "execution_count": 18,
   "metadata": {},
   "outputs": [
    {
     "data": {
      "text/html": [
       "<div>\n",
       "<style scoped>\n",
       "    .dataframe tbody tr th:only-of-type {\n",
       "        vertical-align: middle;\n",
       "    }\n",
       "\n",
       "    .dataframe tbody tr th {\n",
       "        vertical-align: top;\n",
       "    }\n",
       "\n",
       "    .dataframe thead th {\n",
       "        text-align: right;\n",
       "    }\n",
       "</style>\n",
       "<table border=\"1\" class=\"dataframe\">\n",
       "  <thead>\n",
       "    <tr style=\"text-align: right;\">\n",
       "      <th></th>\n",
       "      <th>average_price</th>\n",
       "    </tr>\n",
       "  </thead>\n",
       "  <tbody>\n",
       "    <tr>\n",
       "      <th>2018-03-01</th>\n",
       "      <td>6.276262</td>\n",
       "    </tr>\n",
       "    <tr>\n",
       "      <th>2018-03-02</th>\n",
       "      <td>6.182083</td>\n",
       "    </tr>\n",
       "    <tr>\n",
       "      <th>2018-03-03</th>\n",
       "      <td>6.064492</td>\n",
       "    </tr>\n",
       "    <tr>\n",
       "      <th>2018-03-04</th>\n",
       "      <td>6.443470</td>\n",
       "    </tr>\n",
       "    <tr>\n",
       "      <th>2018-03-05</th>\n",
       "      <td>6.349550</td>\n",
       "    </tr>\n",
       "  </tbody>\n",
       "</table>\n",
       "</div>"
      ],
      "text/plain": [
       "            average_price\n",
       "2018-03-01       6.276262\n",
       "2018-03-02       6.182083\n",
       "2018-03-03       6.064492\n",
       "2018-03-04       6.443470\n",
       "2018-03-05       6.349550"
      ]
     },
     "execution_count": 18,
     "metadata": {},
     "output_type": "execute_result"
    }
   ],
   "source": [
    "average_basket().head()"
   ]
  },
  {
   "cell_type": "markdown",
   "metadata": {},
   "source": [
    "<h3> Question 3 : Write a function which returns a dataframe listing the 5 days with the lowest number of completed rides, ordered chronologically. </h3>"
   ]
  },
  {
   "cell_type": "code",
   "execution_count": 19,
   "metadata": {},
   "outputs": [],
   "source": [
    "def lowest_completed():\n",
    "    date = df.quote_date.unique()\n",
    "    completed = []\n",
    "    for d in date:\n",
    "        completed.append(df.state[(df['quote_date']==d) & (df['state']=='completed')].count())\n",
    "    lowest = pd.DataFrame({'completed': completed}, index=date)\n",
    "    lowest_sorted = lowest.sort_values(by='completed', ascending=True).head(5)\n",
    "    return lowest_sorted"
   ]
  },
  {
   "cell_type": "code",
   "execution_count": 20,
   "metadata": {},
   "outputs": [
    {
     "data": {
      "text/html": [
       "<div>\n",
       "<style scoped>\n",
       "    .dataframe tbody tr th:only-of-type {\n",
       "        vertical-align: middle;\n",
       "    }\n",
       "\n",
       "    .dataframe tbody tr th {\n",
       "        vertical-align: top;\n",
       "    }\n",
       "\n",
       "    .dataframe thead th {\n",
       "        text-align: right;\n",
       "    }\n",
       "</style>\n",
       "<table border=\"1\" class=\"dataframe\">\n",
       "  <thead>\n",
       "    <tr style=\"text-align: right;\">\n",
       "      <th></th>\n",
       "      <th>completed</th>\n",
       "    </tr>\n",
       "  </thead>\n",
       "  <tbody>\n",
       "    <tr>\n",
       "      <th>2018-06-04</th>\n",
       "      <td>3</td>\n",
       "    </tr>\n",
       "    <tr>\n",
       "      <th>2018-04-02</th>\n",
       "      <td>437</td>\n",
       "    </tr>\n",
       "    <tr>\n",
       "      <th>2018-04-01</th>\n",
       "      <td>450</td>\n",
       "    </tr>\n",
       "    <tr>\n",
       "      <th>2018-05-01</th>\n",
       "      <td>453</td>\n",
       "    </tr>\n",
       "    <tr>\n",
       "      <th>2018-05-21</th>\n",
       "      <td>497</td>\n",
       "    </tr>\n",
       "  </tbody>\n",
       "</table>\n",
       "</div>"
      ],
      "text/plain": [
       "            completed\n",
       "2018-06-04          3\n",
       "2018-04-02        437\n",
       "2018-04-01        450\n",
       "2018-05-01        453\n",
       "2018-05-21        497"
      ]
     },
     "execution_count": 20,
     "metadata": {},
     "output_type": "execute_result"
    }
   ],
   "source": [
    "lowest_sorted = lowest_completed()\n",
    "lowest_sorted"
   ]
  },
  {
   "cell_type": "markdown",
   "metadata": {},
   "source": [
    "<h3>Question 4 : Create a chart plotting the number of completed rides per week for each loyalty status.</h3>"
   ]
  },
  {
   "cell_type": "code",
   "execution_count": 21,
   "metadata": {},
   "outputs": [],
   "source": [
    "df_copy = df.copy()\n",
    "df_copy.drop(df_copy[df_copy.state=='not_completed'].index, inplace=True)"
   ]
  },
  {
   "cell_type": "code",
   "execution_count": 22,
   "metadata": {
    "scrolled": true
   },
   "outputs": [],
   "source": [
    "df_copy = df_copy.set_index('quote_date')\n",
    "df_copy = df_copy.sort_index()"
   ]
  },
  {
   "cell_type": "code",
   "execution_count": 23,
   "metadata": {},
   "outputs": [
    {
     "data": {
      "text/plain": [
       "DatetimeIndex(['2018-03-01', '2018-03-08', '2018-03-15', '2018-03-22',\n",
       "               '2018-03-29', '2018-04-05', '2018-04-12', '2018-04-19',\n",
       "               '2018-04-26', '2018-05-03', '2018-05-10', '2018-05-17',\n",
       "               '2018-05-24', '2018-05-31'],\n",
       "              dtype='datetime64[ns]', freq='7D')"
      ]
     },
     "execution_count": 23,
     "metadata": {},
     "output_type": "execute_result"
    }
   ],
   "source": [
    "pd.date_range(start='2018-03-01', end='2018-06-04', freq='7D')"
   ]
  },
  {
   "cell_type": "code",
   "execution_count": 24,
   "metadata": {},
   "outputs": [],
   "source": [
    "dates = ['2018-03-01', '2018-03-08', '2018-03-15', '2018-03-22',\n",
    "               '2018-03-29', '2018-04-05', '2018-04-12', '2018-04-19',\n",
    "               '2018-04-26', '2018-05-03', '2018-05-10', '2018-05-17',\n",
    "               '2018-05-24', '2018-05-31', '2018-06-04']"
   ]
  },
  {
   "cell_type": "code",
   "execution_count": 25,
   "metadata": {},
   "outputs": [],
   "source": [
    "df_copy.loyalty_status_txt = df_copy.loyalty_status_txt.fillna('No_status')"
   ]
  },
  {
   "cell_type": "code",
   "execution_count": 26,
   "metadata": {},
   "outputs": [],
   "source": [
    "def rides_per_week_per_loyalty():\n",
    "    completed_rides = []\n",
    "    week_start = []\n",
    "    week_end = []\n",
    "    loyalty_status = []\n",
    "    for d in range(len(dates)-1):\n",
    "        for j in df_copy.loyalty_status_txt.unique():\n",
    "            week_start.append(dates[d])\n",
    "            week_end.append(dates[d+1])\n",
    "            test = df_copy[dates[d]:dates[d+1]]\n",
    "            loyalty_status.append(j)\n",
    "            completed_rides.append((test.state[(test['state']=='completed') & (test.loyalty_status_txt==j)].count()))\n",
    "        \n",
    "    test = pd.DataFrame({'week_start': week_start,\n",
    "                         'week_end': week_end,\n",
    "                         'loyalty_status_txt': loyalty_status,\n",
    "                        'rides': completed_rides})\n",
    "    return test"
   ]
  },
  {
   "cell_type": "code",
   "execution_count": 27,
   "metadata": {},
   "outputs": [],
   "source": [
    "test = rides_per_week_per_loyalty()"
   ]
  },
  {
   "cell_type": "code",
   "execution_count": 28,
   "metadata": {},
   "outputs": [
    {
     "data": {
      "text/html": [
       "<div>\n",
       "<style scoped>\n",
       "    .dataframe tbody tr th:only-of-type {\n",
       "        vertical-align: middle;\n",
       "    }\n",
       "\n",
       "    .dataframe tbody tr th {\n",
       "        vertical-align: top;\n",
       "    }\n",
       "\n",
       "    .dataframe thead th {\n",
       "        text-align: right;\n",
       "    }\n",
       "</style>\n",
       "<table border=\"1\" class=\"dataframe\">\n",
       "  <thead>\n",
       "    <tr style=\"text-align: right;\">\n",
       "      <th></th>\n",
       "      <th>week_start</th>\n",
       "      <th>week_end</th>\n",
       "      <th>loyalty_status_txt</th>\n",
       "      <th>rides</th>\n",
       "    </tr>\n",
       "  </thead>\n",
       "  <tbody>\n",
       "    <tr>\n",
       "      <th>0</th>\n",
       "      <td>2018-03-01</td>\n",
       "      <td>2018-03-08</td>\n",
       "      <td>No_status</td>\n",
       "      <td>4773</td>\n",
       "    </tr>\n",
       "    <tr>\n",
       "      <th>1</th>\n",
       "      <td>2018-03-01</td>\n",
       "      <td>2018-03-08</td>\n",
       "      <td>platinum</td>\n",
       "      <td>216</td>\n",
       "    </tr>\n",
       "    <tr>\n",
       "      <th>2</th>\n",
       "      <td>2018-03-01</td>\n",
       "      <td>2018-03-08</td>\n",
       "      <td>silver</td>\n",
       "      <td>151</td>\n",
       "    </tr>\n",
       "    <tr>\n",
       "      <th>3</th>\n",
       "      <td>2018-03-01</td>\n",
       "      <td>2018-03-08</td>\n",
       "      <td>red</td>\n",
       "      <td>102</td>\n",
       "    </tr>\n",
       "    <tr>\n",
       "      <th>4</th>\n",
       "      <td>2018-03-01</td>\n",
       "      <td>2018-03-08</td>\n",
       "      <td>gold</td>\n",
       "      <td>190</td>\n",
       "    </tr>\n",
       "    <tr>\n",
       "      <th>5</th>\n",
       "      <td>2018-03-08</td>\n",
       "      <td>2018-03-15</td>\n",
       "      <td>No_status</td>\n",
       "      <td>5006</td>\n",
       "    </tr>\n",
       "    <tr>\n",
       "      <th>6</th>\n",
       "      <td>2018-03-08</td>\n",
       "      <td>2018-03-15</td>\n",
       "      <td>platinum</td>\n",
       "      <td>207</td>\n",
       "    </tr>\n",
       "    <tr>\n",
       "      <th>7</th>\n",
       "      <td>2018-03-08</td>\n",
       "      <td>2018-03-15</td>\n",
       "      <td>silver</td>\n",
       "      <td>139</td>\n",
       "    </tr>\n",
       "    <tr>\n",
       "      <th>8</th>\n",
       "      <td>2018-03-08</td>\n",
       "      <td>2018-03-15</td>\n",
       "      <td>red</td>\n",
       "      <td>71</td>\n",
       "    </tr>\n",
       "    <tr>\n",
       "      <th>9</th>\n",
       "      <td>2018-03-08</td>\n",
       "      <td>2018-03-15</td>\n",
       "      <td>gold</td>\n",
       "      <td>208</td>\n",
       "    </tr>\n",
       "  </tbody>\n",
       "</table>\n",
       "</div>"
      ],
      "text/plain": [
       "   week_start    week_end loyalty_status_txt  rides\n",
       "0  2018-03-01  2018-03-08          No_status   4773\n",
       "1  2018-03-01  2018-03-08           platinum    216\n",
       "2  2018-03-01  2018-03-08             silver    151\n",
       "3  2018-03-01  2018-03-08                red    102\n",
       "4  2018-03-01  2018-03-08               gold    190\n",
       "5  2018-03-08  2018-03-15          No_status   5006\n",
       "6  2018-03-08  2018-03-15           platinum    207\n",
       "7  2018-03-08  2018-03-15             silver    139\n",
       "8  2018-03-08  2018-03-15                red     71\n",
       "9  2018-03-08  2018-03-15               gold    208"
      ]
     },
     "execution_count": 28,
     "metadata": {},
     "output_type": "execute_result"
    }
   ],
   "source": [
    "test.head(10)"
   ]
  },
  {
   "cell_type": "code",
   "execution_count": 29,
   "metadata": {},
   "outputs": [
    {
     "data": {
      "image/png": "[encoded data removed]",
      "text/plain": [
       "<Figure size 2160x1440 with 1 Axes>"
      ]
     },
     "metadata": {
      "needs_background": "light"
     },
     "output_type": "display_data"
    }
   ],
   "source": [
    "plt.figure(figsize=(30, 20))\n",
    "plt.xticks(fontsize=20)\n",
    "plt.yticks(fontsize=30)\n",
    "# set width of bar\n",
    "barWidth = 0.15\n",
    " \n",
    "# set height of bar\n",
    "bars_NS = test.rides.values[test.loyalty_status_txt=='No_status']\n",
    "bars_gold = test.rides.values[test.loyalty_status_txt=='gold']\n",
    "bars_silver = test.rides.values[test.loyalty_status_txt=='silver']\n",
    "bars_platinium = test.rides.values[test.loyalty_status_txt=='platinum']\n",
    "bars_red = test.rides.values[test.loyalty_status_txt=='red']\n",
    " \n",
    "# Set position of bar on X axis\n",
    "r1 = np.arange(len(bars_NS))\n",
    "r2 = [x + barWidth for x in r1]\n",
    "r3 = [x + barWidth for x in r2]\n",
    "r4 = [x + barWidth for x in r3]\n",
    "r5 = [x + barWidth for x in r4]\n",
    "\n",
    "plt.bar(r1, bars_NS, width=barWidth, edgecolor='white', label='No_status')\n",
    "plt.bar(r2, bars_gold, width=barWidth, edgecolor='white', label='Gold')\n",
    "plt.bar(r3, bars_silver, width=barWidth, edgecolor='white', label='Silver')\n",
    "plt.bar(r4, bars_platinium, width=barWidth, edgecolor='white', label='platinum')\n",
    "plt.bar(r5, bars_red, width=barWidth, edgecolor='white', label='red')\n",
    " \n",
    "# Add xticks on the middle of the group bars\n",
    "plt.xlabel('Date', fontweight='bold', fontsize=30)\n",
    "plt.ylabel('number of completed rides', fontweight='bold', fontsize=30)\n",
    "plt.xticks([r + barWidth for r in range(len(bars_NS))], (test.week_start+' to ' +test.week_end).unique())\n",
    " \n",
    "# Create legend & Show graphic\n",
    "plt.legend(fontsize=20)\n",
    "plt.gcf().autofmt_xdate()\n",
    "plt.title(\"number of completed rides per week for each loyalty status\", fontweight='bold', fontsize=30)\n",
    "plt.show()\n"
   ]
  },
  {
   "cell_type": "markdown",
   "metadata": {},
   "source": [
    "<h3>Part 2 : SQL (question 1 to 3)</h3>"
   ]
  },
  {
   "cell_type": "code",
   "execution_count": null,
   "metadata": {},
   "outputs": [],
   "source": [
    "#connect to a database\n",
    "conn = sqlite3.connect(\"df.db\") #if the db does not exist, this creates a Any_Database_Name.db file in the current directory\n",
    "#store your table in the database:\n",
    "df.to_sql('df', conn)\n"
   ]
  },
  {
   "cell_type": "code",
   "execution_count": 30,
   "metadata": {},
   "outputs": [],
   "source": [
    "%load_ext sql"
   ]
  },
  {
   "cell_type": "code",
   "execution_count": 31,
   "metadata": {},
   "outputs": [
    {
     "data": {
      "text/plain": [
       "'Connected: @df.db'"
      ]
     },
     "execution_count": 31,
     "metadata": {},
     "output_type": "execute_result"
    }
   ],
   "source": [
    "%sql sqlite:///df.db"
   ]
  },
  {
   "cell_type": "markdown",
   "metadata": {},
   "source": [
    "<h3>Question 1 : Write a function which returns a dataframe listing all the users, by computing (if needed) the following columns:</h3><br>\n",
    "* user_id <br>\n",
    "* loyalty_status <br>\n",
    "* loyalty_status_txt <br>\n",
    "* daily_date: date of ride day <br>\n",
    "* nb_rides: number of completed rides made by the user for the given day <br>\n",
    "* total_price: total ride price spent by the user for the given day <br>"
   ]
  },
  {
   "cell_type": "code",
   "execution_count": 32,
   "metadata": {},
   "outputs": [
    {
     "name": "stdout",
     "output_type": "stream",
     "text": [
      "Done.\n"
     ]
    },
    {
     "data": {
      "text/html": [
       "<table>\n",
       "    <tr>\n",
       "        <th>user_id</th>\n",
       "        <th>quote_date</th>\n",
       "        <th>loyalty_status</th>\n",
       "        <th>loyalty_status_txt</th>\n",
       "        <th>nb_rides</th>\n",
       "        <th>total_price</th>\n",
       "    </tr>\n",
       "    <tr>\n",
       "        <td>0000af9ab58d7fbcc7c61dfb0a2a68ff</td>\n",
       "        <td>2018-03-16</td>\n",
       "        <td>None</td>\n",
       "        <td>None</td>\n",
       "        <td>1</td>\n",
       "        <td>5.48</td>\n",
       "    </tr>\n",
       "    <tr>\n",
       "        <td>00017c0c4e322c681be8751e26da01ff</td>\n",
       "        <td>2018-04-02</td>\n",
       "        <td>None</td>\n",
       "        <td>None</td>\n",
       "        <td>1</td>\n",
       "        <td>8.37</td>\n",
       "    </tr>\n",
       "    <tr>\n",
       "        <td>0005915fe3e66e94062882a0238e0d52</td>\n",
       "        <td>2018-04-13</td>\n",
       "        <td>None</td>\n",
       "        <td>None</td>\n",
       "        <td>1</td>\n",
       "        <td>7.35</td>\n",
       "    </tr>\n",
       "    <tr>\n",
       "        <td>0005915fe3e66e94062882a0238e0d52</td>\n",
       "        <td>2018-05-02</td>\n",
       "        <td>None</td>\n",
       "        <td>None</td>\n",
       "        <td>1</td>\n",
       "        <td>5.97</td>\n",
       "    </tr>\n",
       "    <tr>\n",
       "        <td>00071a88562ceee2b3767bd815334d11</td>\n",
       "        <td>2018-03-03</td>\n",
       "        <td>None</td>\n",
       "        <td>None</td>\n",
       "        <td>1</td>\n",
       "        <td>5.95</td>\n",
       "    </tr>\n",
       "    <tr>\n",
       "        <td>0007fa0278af842878d18fb7e82af0e4</td>\n",
       "        <td>2018-03-21</td>\n",
       "        <td>2.0</td>\n",
       "        <td>gold</td>\n",
       "        <td>1</td>\n",
       "        <td>4.0</td>\n",
       "    </tr>\n",
       "    <tr>\n",
       "        <td>000a46893a5983fe3985d84841e9c9c0</td>\n",
       "        <td>2018-04-04</td>\n",
       "        <td>None</td>\n",
       "        <td>None</td>\n",
       "        <td>1</td>\n",
       "        <td>6.93</td>\n",
       "    </tr>\n",
       "    <tr>\n",
       "        <td>000a46893a5983fe3985d84841e9c9c0</td>\n",
       "        <td>2018-05-02</td>\n",
       "        <td>None</td>\n",
       "        <td>None</td>\n",
       "        <td>1</td>\n",
       "        <td>5.97</td>\n",
       "    </tr>\n",
       "    <tr>\n",
       "        <td>000a46893a5983fe3985d84841e9c9c0</td>\n",
       "        <td>2018-05-16</td>\n",
       "        <td>None</td>\n",
       "        <td>None</td>\n",
       "        <td>1</td>\n",
       "        <td>5.9</td>\n",
       "    </tr>\n",
       "    <tr>\n",
       "        <td>000af9764248b5913a78fb2de5f1c50f</td>\n",
       "        <td>2018-04-28</td>\n",
       "        <td>None</td>\n",
       "        <td>None</td>\n",
       "        <td>1</td>\n",
       "        <td>5.47</td>\n",
       "    </tr>\n",
       "</table>"
      ],
      "text/plain": [
       "[('0000af9ab58d7fbcc7c61dfb0a2a68ff', '2018-03-16', None, None, 1, 5.48),\n",
       " ('00017c0c4e322c681be8751e26da01ff', '2018-04-02', None, None, 1, 8.37),\n",
       " ('0005915fe3e66e94062882a0238e0d52', '2018-04-13', None, None, 1, 7.35),\n",
       " ('0005915fe3e66e94062882a0238e0d52', '2018-05-02', None, None, 1, 5.97),\n",
       " ('00071a88562ceee2b3767bd815334d11', '2018-03-03', None, None, 1, 5.95),\n",
       " ('0007fa0278af842878d18fb7e82af0e4', '2018-03-21', 2.0, 'gold', 1, 4.0),\n",
       " ('000a46893a5983fe3985d84841e9c9c0', '2018-04-04', None, None, 1, 6.93),\n",
       " ('000a46893a5983fe3985d84841e9c9c0', '2018-05-02', None, None, 1, 5.97),\n",
       " ('000a46893a5983fe3985d84841e9c9c0', '2018-05-16', None, None, 1, 5.9),\n",
       " ('000af9764248b5913a78fb2de5f1c50f', '2018-04-28', None, None, 1, 5.47)]"
      ]
     },
     "execution_count": 32,
     "metadata": {},
     "output_type": "execute_result"
    }
   ],
   "source": [
    "%%sql sqlite:// \n",
    "SELECT user_id, quote_date, loyalty_status, loyalty_status_txt, COUNT(price_nominal) as nb_rides, SUM(price_nominal) as total_price \n",
    "FROM df WHERE state==\"completed\" \n",
    "GROUP BY user_id, quote_date\n",
    "LIMIT 10"
   ]
  },
  {
   "cell_type": "markdown",
   "metadata": {},
   "source": [
    "<h3> Question 2:  Write a function which returns a dataframe listing the average basket per day. The average basket is the average completed ride price for a given period of time. </h3"
   ]
  },
  {
   "cell_type": "code",
   "execution_count": 33,
   "metadata": {},
   "outputs": [
    {
     "name": "stdout",
     "output_type": "stream",
     "text": [
      "Done.\n"
     ]
    },
    {
     "data": {
      "text/html": [
       "<table>\n",
       "    <tr>\n",
       "        <th>quote_date</th>\n",
       "        <th>average_price</th>\n",
       "    </tr>\n",
       "    <tr>\n",
       "        <td>2018-03-01</td>\n",
       "        <td>6.2762616822429855</td>\n",
       "    </tr>\n",
       "    <tr>\n",
       "        <td>2018-03-02</td>\n",
       "        <td>6.182083333333322</td>\n",
       "    </tr>\n",
       "    <tr>\n",
       "        <td>2018-03-03</td>\n",
       "        <td>6.064491803278694</td>\n",
       "    </tr>\n",
       "    <tr>\n",
       "        <td>2018-03-04</td>\n",
       "        <td>6.443470149253732</td>\n",
       "    </tr>\n",
       "    <tr>\n",
       "        <td>2018-03-05</td>\n",
       "        <td>6.3495503875968975</td>\n",
       "    </tr>\n",
       "    <tr>\n",
       "        <td>2018-03-06</td>\n",
       "        <td>6.276956521739133</td>\n",
       "    </tr>\n",
       "    <tr>\n",
       "        <td>2018-03-07</td>\n",
       "        <td>6.501221374045803</td>\n",
       "    </tr>\n",
       "    <tr>\n",
       "        <td>2018-03-08</td>\n",
       "        <td>6.376679104477604</td>\n",
       "    </tr>\n",
       "    <tr>\n",
       "        <td>2018-03-09</td>\n",
       "        <td>6.387546174142483</td>\n",
       "    </tr>\n",
       "    <tr>\n",
       "        <td>2018-03-10</td>\n",
       "        <td>6.128785046728974</td>\n",
       "    </tr>\n",
       "</table>"
      ],
      "text/plain": [
       "[('2018-03-01', 6.2762616822429855),\n",
       " ('2018-03-02', 6.182083333333322),\n",
       " ('2018-03-03', 6.064491803278694),\n",
       " ('2018-03-04', 6.443470149253732),\n",
       " ('2018-03-05', 6.3495503875968975),\n",
       " ('2018-03-06', 6.276956521739133),\n",
       " ('2018-03-07', 6.501221374045803),\n",
       " ('2018-03-08', 6.376679104477604),\n",
       " ('2018-03-09', 6.387546174142483),\n",
       " ('2018-03-10', 6.128785046728974)]"
      ]
     },
     "execution_count": 33,
     "metadata": {},
     "output_type": "execute_result"
    }
   ],
   "source": [
    "%%sql sqlite://\n",
    "SELECT quote_date, AVG(price_nominal) as average_price\n",
    "FROM df \n",
    "WHERE state==\"completed\"\n",
    "GROUP BY quote_date\n",
    "LIMIT 10"
   ]
  },
  {
   "cell_type": "markdown",
   "metadata": {},
   "source": [
    "<h3> Question 3 : Write a function which returns a dataframe listing the 5 days with the lowest number of completed rides, ordered chronologically. </h3>"
   ]
  },
  {
   "cell_type": "code",
   "execution_count": 34,
   "metadata": {},
   "outputs": [
    {
     "name": "stdout",
     "output_type": "stream",
     "text": [
      "Done.\n"
     ]
    },
    {
     "data": {
      "text/html": [
       "<table>\n",
       "    <tr>\n",
       "        <th>quote_date</th>\n",
       "        <th>lowest_completed_rides</th>\n",
       "    </tr>\n",
       "    <tr>\n",
       "        <td>2018-06-04</td>\n",
       "        <td>3</td>\n",
       "    </tr>\n",
       "    <tr>\n",
       "        <td>2018-04-02</td>\n",
       "        <td>437</td>\n",
       "    </tr>\n",
       "    <tr>\n",
       "        <td>2018-04-01</td>\n",
       "        <td>450</td>\n",
       "    </tr>\n",
       "    <tr>\n",
       "        <td>2018-05-01</td>\n",
       "        <td>453</td>\n",
       "    </tr>\n",
       "    <tr>\n",
       "        <td>2018-05-21</td>\n",
       "        <td>497</td>\n",
       "    </tr>\n",
       "</table>"
      ],
      "text/plain": [
       "[('2018-06-04', 3),\n",
       " ('2018-04-02', 437),\n",
       " ('2018-04-01', 450),\n",
       " ('2018-05-01', 453),\n",
       " ('2018-05-21', 497)]"
      ]
     },
     "execution_count": 34,
     "metadata": {},
     "output_type": "execute_result"
    }
   ],
   "source": [
    "%%sql sqlite://\n",
    "SELECT quote_date, COUNT(state) as lowest_completed_rides \n",
    "FROM df\n",
    "WHERE state==\"completed\" \n",
    "GROUP BY quote_date \n",
    "ORDER BY lowest_completed_rides  \n",
    "LIMIT 5"
   ]
  },
  {
   "cell_type": "code",
   "execution_count": null,
   "metadata": {},
   "outputs": [],
   "source": []
  }
 ],
 "metadata": {
  "kernelspec": {
   "display_name": "Python 3",
   "language": "python",
   "name": "python3"
  },
  "language_info": {
   "codemirror_mode": {
    "name": "ipython",
    "version": 3
   },
   "file_extension": ".py",
   "mimetype": "text/x-python",
   "name": "python",
   "nbconvert_exporter": "python",
   "pygments_lexer": "ipython3",
   "version": "3.7.3"
  }
 },
 "nbformat": 4,
 "nbformat_minor": 2
}
